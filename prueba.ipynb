{
 "cells": [
  {
   "cell_type": "markdown",
   "metadata": {},
   "source": [
    "esto de texto"
   ]
  }
 ],
 "metadata": {
  "kernelspec": {
   "display_name": "promo-i",
   "language": "python",
   "name": "python3"
  },
  "language_info": {
   "name": "python",
   "version": "3.11.7"
  }
 },
 "nbformat": 4,
 "nbformat_minor": 2
}
